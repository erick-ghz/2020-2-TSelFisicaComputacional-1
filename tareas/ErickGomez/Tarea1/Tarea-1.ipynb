{
 "cells": [
  {
   "cell_type": "markdown",
   "metadata": {},
   "source": [
    "#### POR: ERICK ALEXIS GÓMEZ HERNÁNDEZ"
   ]
  },
  {
   "cell_type": "markdown",
   "metadata": {},
   "source": [
    "# Tarea 1: Números duales\n",
    "\n",
    "> La fecha de envío del primer PR de la tarea es **6 de marzo**. NOTA: Este primer PR será revisado y se les hará llegar comentarios. El PR *final* deberá ser **aceptado** *a más tardar* el día **20 de marzo**.\n",
    "\n",
    "\n",
    "Para explicar los *números duales* recordaremos algunas propiedades de los números complejos.\n",
    "\n",
    "Los números complejos los podemos entender como una *pareja ordenada* $z=(x, y)$ que algebraicamente escribimos $z = x +i y$, donde $x,y\\in\\mathbb R$, y el \"número\" $i$ lo definimos a partir de $i^2 = -1$. Decimos que $x$ es la *parte real* de $z$, y que $y$ es su *parte imaginaria*.\n",
    "Con esta definición, podemos extender las operaciones aritméticas al igual que las funciones elementales de manera sencilla. Ésta es, de hecho, la manera en que están implementados los números complejos en Julia.\n",
    "\n",
    "En el mismo espíritu, uno puede definir al *par ordenado* $\\overleftrightarrow{x} = (x, x^\\prime) = x + \\epsilon x^\\prime$, con $x, x^\\prime \\in \\mathbb R$, y donde $\\epsilon$ lo definimos con la propiedad $\\epsilon^2=0$. Es fácil pues convencerse que estas estructuras, que llamaremos *números duales*, cumplen:\n",
    "\n",
    "\\begin{eqnarray}\n",
    "(x + \\epsilon x^\\prime) \\pm (y + \\epsilon y^\\prime) & = & (x\\pm y) + \\epsilon (x^\\prime\\pm y^\\prime),\\\\\n",
    "(x + \\epsilon x^\\prime) \\cdot (y + \\epsilon y^\\prime) & = & (x\\cdot y) + \\epsilon (xy^\\prime+y x^\\prime).\n",
    "\\end{eqnarray}\n",
    "\n",
    "Llamaremos a $x$ la *parte principal* y a $x^\\prime$ la *parte derivada* de $\\overleftrightarrow{x}$."
   ]
  },
  {
   "cell_type": "markdown",
   "metadata": {},
   "source": [
    "## Ejercicio 1\n",
    "\n",
    "- A partir de $\\overleftrightarrow{z} \\cdot \\overleftrightarrow{y} = \\overleftrightarrow{x}$, obtener la expresión para $\\overleftrightarrow{z}  = \\overleftrightarrow{x} / \\overleftrightarrow{y}$. Es decir, obtener qué es $z$ y $z^\\prime$ en términos de las componentes de $\\overleftrightarrow{x}$ y $\\overleftrightarrow{y}$.\n",
    "Si es necesario pueden iniciar en $\\overleftrightarrow{z} = {\\overleftrightarrow{y}}^{-1}$"
   ]
  },
  {
   "cell_type": "markdown",
   "metadata": {},
   "source": [
    "Se tiene que\n",
    "$$\n",
    "\\overleftrightarrow{z} \\cdot \\overleftrightarrow{y} =\n",
    "zy + \\epsilon(zy' + z'y) = x + \\epsilon x' = \\overleftrightarrow{x}\n",
    "$$\n",
    "lo cual se cumple sii\n",
    "$$ zy = x \\quad\\text{y}\\quad zy' + z'y = x' $$\n",
    "de donde \n",
    "$$ z = \\frac{x}{y}, $$\n",
    "luego:\n",
    "$$ x' = \\left(\\frac{x}{y}\\right)y' + z'y \n",
    "\\quad\\Rightarrow\\quad \n",
    "z' = \\frac{yx' - xy'}{y^2} $$"
   ]
  },
  {
   "cell_type": "markdown",
   "metadata": {},
   "source": [
    "- De la expresión obtenida (y de las fórmulas anteriores), ¿qué podemos decir/concluir/interpretar de $z^\\prime$?\n",
    "(En caso de falta de inspiración, ver [aquí](https://en.wikipedia.org/wiki/Automatic_differentiation#Automatic_differentiation_using_dual_numbers), pero es sugiero esforzarse y *arriesgarse* tratando de reconocer las expresiones.)"
   ]
  },
  {
   "cell_type": "markdown",
   "metadata": {},
   "source": [
    "Haciendo la analogía de la notación funcional de $f'$ como la derivada de $f$, si $z = \\frac{x}{y}$, entonces $z'$ es la derivada de $z$ dada por la regla del cociente de $\\left(\\frac{x}{y}\\right)' = \\frac{yx' - xy'}{y^2}$."
   ]
  },
  {
   "cell_type": "markdown",
   "metadata": {},
   "source": [
    "## Ejercicio 2\n",
    "\n",
    "- Definir una estructura `Dual` que represente a los números duales; por sencillez pueden considerar que los campos del `Dual` son `Float64`, aunque pueden *osar* y tratar de implementar el caso paramétrico `Dual{T <: Real}`, donde `T` es el tipo de *ambos* campos."
   ]
  },
  {
   "cell_type": "code",
   "execution_count": null,
   "metadata": {},
   "outputs": [],
   "source": [
    "#\"\"\"\n",
    "#Definimos a un número Dual como una estructura mutable.\n",
    "#\"\"\"\n",
    "\n",
    "# \\overleftrightarrow{z} = x + ϵy\n",
    "#mutable struct Dual{T <: Real, U <: Real}\n",
    " #   x :: T\n",
    "  #  y :: U\n",
    "   # function Dual(x :: T, y :: U) where {T, U}\n",
    "    #    @assert length(x) == length(y) == 1\n",
    "     #   return new{T, U}(x,y)\n",
    "    #end\n",
    "#end"
   ]
  },
  {
   "cell_type": "code",
   "execution_count": 45,
   "metadata": {},
   "outputs": [],
   "source": [
    "# Creando estructura \"Dual\" con partes principal y derivada Reales\n",
    "# \\overleftrightarrow{z} = x + ϵy\n",
    "mutable struct Dual{T <: Real}\n",
    "    x :: T\n",
    "    y :: T\n",
    "end"
   ]
  },
  {
   "cell_type": "code",
   "execution_count": 43,
   "metadata": {},
   "outputs": [
    {
     "data": {
      "text/plain": [
       "Dual"
      ]
     },
     "execution_count": 43,
     "metadata": {},
     "output_type": "execute_result"
    }
   ],
   "source": [
    "\"\"\"\n",
    "Constructor de la estructura \"Dual\" que permite crear un objeto de este tipo\n",
    "sin importar que los argumentos que se reciban sean de distintos tipos.\n",
    "\"\"\"\n",
    "\n",
    "# El operador \"...\" es para \"aplanar\" la tupla que resulra de \"promote(x,y)\"\n",
    "Dual(x::T, y::U) where {T <: Real, U <: Real} = Dual(promote(x, y)...)"
   ]
  },
  {
   "cell_type": "code",
   "execution_count": 49,
   "metadata": {},
   "outputs": [
    {
     "data": {
      "text/plain": [
       "(Dual{Float64}(4.0, 5.0), Dual{Float64}(0.5, 4.5))"
      ]
     },
     "execution_count": 49,
     "metadata": {},
     "output_type": "execute_result"
    }
   ],
   "source": [
    "# El constructor permite tomar argumentos numéricos de distintos tipos\n",
    "Dual(4, 5.0), Dual(3//6, 4.5)"
   ]
  },
  {
   "cell_type": "markdown",
   "metadata": {},
   "source": [
    "- Sobrecargar las operaciones de tal manera que las cuatro operaciones aritméticas que involucrena dos `Dual`-es, den el resultado que se espera."
   ]
  },
  {
   "cell_type": "code",
   "execution_count": 50,
   "metadata": {},
   "outputs": [
    {
     "data": {
      "text/plain": [
       "/ (generic function with 116 methods)"
      ]
     },
     "execution_count": 50,
     "metadata": {},
     "output_type": "execute_result"
    }
   ],
   "source": [
    "# Sobrecarga de operadores aritméticos +, -, *, /\n",
    "\n",
    "import Base: +\n",
    "    +(z::Dual, w::Dual) = Dual(z.x + w.x, z.y + w.y)\n",
    "\n",
    "import Base: -\n",
    "    -(z::Dual, w::Dual) = Dual(z.x - w.x, z.y - w.y)\n",
    "\n",
    "import Base: *\n",
    "    *(z::Dual, w::Dual) = Dual((z.x * w.x), (z.x * w.y + z.y * w.x))\n",
    "\n",
    "import Base: /\n",
    "    /(z::Dual, w::Dual) = Dual(z.x/w.x, ((w.x *z.y) - (z.x * w.y))/(w.x)^2)\n",
    "\n"
   ]
  },
  {
   "cell_type": "code",
   "execution_count": 57,
   "metadata": {},
   "outputs": [
    {
     "data": {
      "text/plain": [
       "(Dual{Float64}(20.085536923187668, 4.0), Dual{Float64}(1.5, 6.283185307179586))"
      ]
     },
     "execution_count": 57,
     "metadata": {},
     "output_type": "execute_result"
    }
   ],
   "source": [
    "z, w = Dual(exp(3), 4), Dual(3//2, 2π)"
   ]
  },
  {
   "cell_type": "code",
   "execution_count": null,
   "metadata": {},
   "outputs": [],
   "source": [
    "z + w"
   ]
  },
  {
   "cell_type": "code",
   "execution_count": null,
   "metadata": {},
   "outputs": [],
   "source": [
    "z - w"
   ]
  },
  {
   "cell_type": "code",
   "execution_count": null,
   "metadata": {},
   "outputs": [],
   "source": [
    "z * w"
   ]
  },
  {
   "cell_type": "code",
   "execution_count": null,
   "metadata": {},
   "outputs": [],
   "source": [
    "z / w"
   ]
  },
  {
   "cell_type": "markdown",
   "metadata": {},
   "source": [
    "- Definan un método específico para crear duales (constructor externo), a partir de un sólo valor (en lugar de los dos requeridos), que corresponderá a $\\overleftrightarrow{x_0} = (x_0, 0)$. ¿Es el *0* de esta definición, o sea, $x_0'=0$, compatible con la interpretación que dieron en el ejercicio anterior para la parte derivada?"
   ]
  },
  {
   "cell_type": "code",
   "execution_count": 51,
   "metadata": {},
   "outputs": [
    {
     "data": {
      "text/plain": [
       "Dual"
      ]
     },
     "execution_count": 51,
     "metadata": {},
     "output_type": "execute_result"
    }
   ],
   "source": [
    "# Método que crea objetos del tipo Dual(x0, 0)\n",
    "Dual(x::T) where {T <: Real} = Dual(promote(x, 0.0)...)"
   ]
  },
  {
   "cell_type": "code",
   "execution_count": 52,
   "metadata": {},
   "outputs": [
    {
     "data": {
      "text/plain": [
       "Dual{Float64}(3.141592653589793, 0.0)"
      ]
     },
     "execution_count": 52,
     "metadata": {},
     "output_type": "execute_result"
    }
   ],
   "source": [
    "# Ya se permite expresar números reales como duales con parte derivada nula\n",
    "Dual(π)"
   ]
  },
  {
   "cell_type": "markdown",
   "metadata": {},
   "source": [
    "- Extiendan los métodos que permitan sumar/restar y multiplicar/dividir un número (`Real`) y un `Dual`. (Recuerden que ciertas operaciones son conmutativas!).\n",
    "    NOTA: Este ejercicio lo pueden hacer escribiendo todos los métodos, uno a uno. Otra opció es usar `promote` y `convert` para definir reglas de promoción y conversión; [la documentación](https://docs.julialang.org/en/v1/manual/conversion-and-promotion/) tiene más información, por si este camino les interesa."
   ]
  },
  {
   "cell_type": "code",
   "execution_count": 72,
   "metadata": {},
   "outputs": [
    {
     "data": {
      "text/plain": [
       "/ (generic function with 118 methods)"
      ]
     },
     "execution_count": 72,
     "metadata": {},
     "output_type": "execute_result"
    }
   ],
   "source": [
    "# Extensión de operadores aritméticos entre reales y duales\n",
    "# Como ya se sabe operar entre duales, basta transformar\n",
    "# el real x al dual (x,0)\n",
    "\n",
    "import Base: +\n",
    "    +(z::Dual, w::T) where {T <: Real} = z + Dual(w)\n",
    "    +(z::T, w::Dual) where {T <: Real} = Dual(z) + w\n",
    "\n",
    "import Base: -\n",
    "    -(z::Dual, w::T) where {T <: Real} = z - Dual(w)\n",
    "    -(z::T, w::Dual) where {T <: Real} = Dual(z) - w\n",
    "\n",
    "import Base: *\n",
    "    *(z::Dual, w::T) where {T <: Real} = z * Dual(w)\n",
    "    *(z::T, w::Dual) where {T <: Real} = Dual(z) * w\n",
    "\n",
    "import Base: /\n",
    "    /(z::Dual, w::T) where {T <: Real} = z / Dual(w)\n",
    "    /(z::T, w::Dual) where {T <: Real} = Dual(z) / w\n"
   ]
  },
  {
   "cell_type": "markdown",
   "metadata": {},
   "source": [
    "- Incluyan varios casos (propuestos por ustedes mismos) donde se *compruebe* que lo que implementaron da el resultado que debería ser. Para esto, pueden usar la librería estándard [`Test`](https://docs.julialang.org/en/v1/stdlib/Test/) de Julia."
   ]
  },
  {
   "cell_type": "code",
   "execution_count": null,
   "metadata": {},
   "outputs": [],
   "source": [
    "promote_rule(::Type{T}, ::Type)"
   ]
  },
  {
   "cell_type": "markdown",
   "metadata": {},
   "source": [
    "## Ejercicio 3\n",
    "\n",
    "Definan una nueva función `var_dual(x_0)` cuyo resultado sea un `Dual` cuya parte principal es `x_0` y cuya parte derivada sea tal que `var_dual(x_0)` *represente* a la variable independiente `x` en `x_0`. La idea es piensen qué debe representar la parte derivada del dual `xd` que regresa `xd = var_dual(x_0)`. Con esta función evalúen `g(xd)`\n",
    "donde\n",
    "$$\n",
    "g(x) = \\frac{3x^2-8x+1}{7x^3-1}.\n",
    "$$"
   ]
  },
  {
   "cell_type": "markdown",
   "metadata": {},
   "source": [
    "Haciendo la analogía con la interpretación del Ejercicio 1 de un dual como $(f, f')$, consideremos $f(x) = x$. Así, para $f(x_0) = x_0$, la parte derivada de `var_dual(x_0)` debería arrojar la derivada $f'(x_0) = 1$: `var_dual(x_0) = Dual(x_0, 1)`."
   ]
  },
  {
   "cell_type": "code",
   "execution_count": 74,
   "metadata": {},
   "outputs": [
    {
     "data": {
      "text/plain": [
       "var_dual"
      ]
     },
     "execution_count": 74,
     "metadata": {},
     "output_type": "execute_result"
    }
   ],
   "source": [
    "\"\"\"\n",
    "Devuelve el dual (f(x_0),f'(x_0)) para f(x) = x,\n",
    "es decir (x_0, 1).\n",
    "\"\"\"\n",
    "var_dual(x0::T) where {T <: Real} = Dual(x0, 1)"
   ]
  },
  {
   "cell_type": "markdown",
   "metadata": {},
   "source": [
    "## Ejercicio 4\n",
    "\n",
    "- A partir de la interpretación que han hecho para la parte derivada (último inciso del Ejercicio 1), y *generalizando* esa interpretación de qué representa cada campo y en particular el segundo de `Dual{T}`, *extiendan* las funciones `sin(a::Dual)`, `cos(a::Dual)`, `tan(a::Dual)`, `^(a::Dual, n::Int)`, `sqrt(a::Dual)`, `exp(a::Dual)` y `log(a::Dual)`."
   ]
  },
  {
   "cell_type": "markdown",
   "metadata": {},
   "source": [
    "Según la interpretación inicial, un dual $(x,y)$ como un par $(f, f')$. Considerando la composición $g \\circ f$, el dual correspondiente es $(g \\circ f, (g \\circ f)') = (g \\circ f, f'(g' \\circ f)) $. Así, es como se hace la extensión de $g$ aplicado a un dual: \n",
    "$$ g((x,y)) = (g(x), y\\,g'(x)).$$\n",
    "Entonces:\n",
    "\\begin{align*}\n",
    "    \\sin{(x,y)} &:= (\\sin{x}, y\\cos{x}) \\\\\n",
    "    \\cos{(x,y)} &:= (\\cos{x}, -y\\sin{x}) \\\\\n",
    "    \\tan{(x,y)} &:= \\left(\\tan{x}, \\frac{y}{\\cos^2{x}}\\right) \\\\\n",
    "    (x,y)^n &:= (x^n, y\\,nx^{n-1}) \\\\\n",
    "    \\sqrt{(x,y)} &:= \\left(\\sqrt{x}, \\frac{y}{2 \\sqrt{x}}\\right) \\\\\n",
    "    \\exp{(x,y)} &:= (\\exp{x}, y\\exp{x}) \\\\\n",
    "    \\log{(x,y)} &:= \\left(\\log{x}, \\frac{y}{x}\\right) \\\\\n",
    "\\end{align*}"
   ]
  },
  {
   "cell_type": "code",
   "execution_count": 1,
   "metadata": {},
   "outputs": [
    {
     "ename": "UndefVarError",
     "evalue": "UndefVarError: Dual not defined",
     "output_type": "error",
     "traceback": [
      "UndefVarError: Dual not defined",
      "",
      "Stacktrace:",
      " [1] top-level scope at In[1]:4"
     ]
    }
   ],
   "source": [
    "# Extensión de funciones para evaluar duales\n",
    "\n",
    "import Base: sin, cos, tan, ^, sqrt, exp, log\n",
    "    sin(z::Dual) = Dual(sin(z.x), z.y*cos(z.x))\n",
    "    cos(z::Dual) = Dual(cos(z.x), -z.y*sin(z.x))\n",
    "    tan(z::Dual) = Dual(tan(z.x), z.y/cos(z.x)^2 )\n",
    "    ^(z::Dual, n::Int) = Dual((z.x)^n, z.y*n*(z.x)^(n-1))\n",
    "    sqrt(z::Dual) = Dual(sqrt(z.x), (0.5*z.y)/sqrt(z.x))\n",
    "    exp(z::Dual) = Dual(exp(z.x), z.y*exp(z.x))\n",
    "    log(z::Dual) = Dual(log(z.x), z.y/z.x)\n",
    "\n"
   ]
  },
  {
   "cell_type": "code",
   "execution_count": 86,
   "metadata": {},
   "outputs": [
    {
     "data": {
      "text/plain": [
       "Dual{Float64}(20.085536923187668, 4.0)"
      ]
     },
     "execution_count": 86,
     "metadata": {},
     "output_type": "execute_result"
    }
   ],
   "source": [
    "z"
   ]
  },
  {
   "cell_type": "code",
   "execution_count": 90,
   "metadata": {},
   "outputs": [
    {
     "data": {
      "text/plain": [
       "(Dual{Float64}(0.9444710089262849, 1.3143790217301283), Dual{Float64}(0.3285947554325321, -3.7778840357051395), Dual{Float64}(2.874272925272558, 37.04577939581948), Dual{Float64}(8103.083927575384, 4841.145521912821), Dual{Float64}(4.4816890703380645, 0.4462603202968597), Dual{Float64}(5.284913114854943e8, 2.1139652459419773e9), Dual{Float64}(3.0, 0.19914827347145578))"
      ]
     },
     "execution_count": 90,
     "metadata": {},
     "output_type": "execute_result"
    }
   ],
   "source": [
    "sin(z), cos(z), tan(z), ^(z,3), sqrt(z), exp(z), log(z)"
   ]
  },
  {
   "cell_type": "markdown",
   "metadata": {},
   "source": [
    "- Al igual que antes, construyan algún conjunto de pruebas que muestren, de manera sencilla, que lo que hicieron da lo que *debería* dar."
   ]
  },
  {
   "cell_type": "code",
   "execution_count": null,
   "metadata": {},
   "outputs": [],
   "source": []
  }
 ],
 "metadata": {
  "kernelspec": {
   "display_name": "Julia 1.3.1",
   "language": "julia",
   "name": "julia-1.3"
  },
  "language_info": {
   "file_extension": ".jl",
   "mimetype": "application/julia",
   "name": "julia",
   "version": "1.3.1"
  }
 },
 "nbformat": 4,
 "nbformat_minor": 2
}
