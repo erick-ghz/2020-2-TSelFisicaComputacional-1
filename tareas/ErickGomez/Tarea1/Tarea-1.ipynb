{
 "cells": [
  {
   "cell_type": "markdown",
   "metadata": {},
   "source": [
    "### TEMAS SELECTOS DE FÍSICA COMPUTACIONAL I, SEMESTRE 2020-2\n",
    "#### POR: ERICK ALEXIS GÓMEZ HERNÁNDEZ"
   ]
  },
  {
   "cell_type": "markdown",
   "metadata": {},
   "source": [
    "# Tarea 1: Números duales\n",
    "\n",
    "> La fecha de envío del primer PR de la tarea es **6 de marzo**. NOTA: Este primer PR será revisado y se les hará llegar comentarios. El PR *final* deberá ser **aceptado** *a más tardar* el día **20 de marzo**.\n",
    "\n",
    "\n",
    "Para explicar los *números duales* recordaremos algunas propiedades de los números complejos.\n",
    "\n",
    "Los números complejos los podemos entender como una *pareja ordenada* $z=(x, y)$ que algebraicamente escribimos $z = x +i y$, donde $x,y\\in\\mathbb R$, y el \"número\" $i$ lo definimos a partir de $i^2 = -1$. Decimos que $x$ es la *parte real* de $z$, y que $y$ es su *parte imaginaria*.\n",
    "Con esta definición, podemos extender las operaciones aritméticas al igual que las funciones elementales de manera sencilla. Ésta es, de hecho, la manera en que están implementados los números complejos en Julia.\n",
    "\n",
    "En el mismo espíritu, uno puede definir al *par ordenado* $\\overleftrightarrow{x} = (x, x^\\prime) = x + \\epsilon x^\\prime$, con $x, x^\\prime \\in \\mathbb R$, y donde $\\epsilon$ lo definimos con la propiedad $\\epsilon^2=0$. Es fácil pues convencerse que estas estructuras, que llamaremos *números duales*, cumplen:\n",
    "\n",
    "\\begin{eqnarray}\n",
    "(x + \\epsilon x^\\prime) \\pm (y + \\epsilon y^\\prime) & = & (x\\pm y) + \\epsilon (x^\\prime\\pm y^\\prime),\\\\\n",
    "(x + \\epsilon x^\\prime) \\cdot (y + \\epsilon y^\\prime) & = & (x\\cdot y) + \\epsilon (xy^\\prime+y x^\\prime).\n",
    "\\end{eqnarray}\n",
    "\n",
    "Llamaremos a $x$ la *parte principal* y a $x^\\prime$ la *parte derivada* de $\\overleftrightarrow{x}$."
   ]
  },
  {
   "cell_type": "markdown",
   "metadata": {},
   "source": [
    "## Ejercicio 1\n",
    "\n",
    "- A partir de $\\overleftrightarrow{z} \\cdot \\overleftrightarrow{y} = \\overleftrightarrow{x}$, obtener la expresión para $\\overleftrightarrow{z}  = \\overleftrightarrow{x} / \\overleftrightarrow{y}$. Es decir, obtener qué es $z$ y $z^\\prime$ en términos de las componentes de $\\overleftrightarrow{x}$ y $\\overleftrightarrow{y}$.\n",
    "Si es necesario pueden iniciar en $\\overleftrightarrow{z} = {\\overleftrightarrow{y}}^{-1}$"
   ]
  },
  {
   "cell_type": "markdown",
   "metadata": {},
   "source": [
    "Se tiene que\n",
    "$$\n",
    "\\overleftrightarrow{z} \\cdot \\overleftrightarrow{y} =\n",
    "zy + \\epsilon(zy' + z'y) = x + \\epsilon x' = \\overleftrightarrow{x}\n",
    "$$\n",
    "lo cual se cumple sii\n",
    "$$ zy = x \\quad\\text{y}\\quad zy' + z'y = x' $$\n",
    "de donde \n",
    "$$ z = \\frac{x}{y}, $$\n",
    "luego:\n",
    "$$ x' = \\left(\\frac{x}{y}\\right)y' + z'y \n",
    "\\quad\\Rightarrow\\quad \n",
    "z' = \\frac{yx' - xy'}{y^2} $$"
   ]
  },
  {
   "cell_type": "markdown",
   "metadata": {},
   "source": [
    "- De la expresión obtenida (y de las fórmulas anteriores), ¿qué podemos decir/concluir/interpretar de $z^\\prime$?\n",
    "(En caso de falta de inspiración, ver [aquí](https://en.wikipedia.org/wiki/Automatic_differentiation#Automatic_differentiation_using_dual_numbers), pero es sugiero esforzarse y *arriesgarse* tratando de reconocer las expresiones.)"
   ]
  },
  {
   "cell_type": "markdown",
   "metadata": {},
   "source": [
    "Haciendo la analogía de la notación funcional de $f'$ como la derivada de $f$, si $z = \\frac{x}{y}$, entonces $z'$ es la derivada de $z$ dada por la regla del cociente de $\\left(\\frac{x}{y}\\right)' = \\frac{yx' - xy'}{y^2}$."
   ]
  },
  {
   "cell_type": "markdown",
   "metadata": {},
   "source": [
    "## Ejercicio 2\n",
    "\n",
    "- Definir una estructura `Dual` que represente a los números duales; por sencillez pueden considerar que los campos del `Dual` son `Float64`, aunque pueden *osar* y tratar de implementar el caso paramétrico `Dual{T <: Real}`, donde `T` es el tipo de *ambos* campos."
   ]
  },
  {
   "cell_type": "code",
   "execution_count": 1,
   "metadata": {},
   "outputs": [],
   "source": [
    "# Creando estructura mutable \"Dual\" con partes principal y derivada reales\n",
    "# \\overleftrightarrow{z} = x + ϵy\n",
    "mutable struct Dual{T <: Real}\n",
    "    x :: T\n",
    "    y :: T\n",
    "end"
   ]
  },
  {
   "cell_type": "markdown",
   "metadata": {},
   "source": [
    "Para permitir ingresar indistintamente cualesquiera tipos `<: Real` como componentes de un objeto `Dual` definimos el siguiente constructor."
   ]
  },
  {
   "cell_type": "code",
   "execution_count": 2,
   "metadata": {},
   "outputs": [
    {
     "data": {
      "text/plain": [
       "Dual"
      ]
     },
     "execution_count": 2,
     "metadata": {},
     "output_type": "execute_result"
    }
   ],
   "source": [
    "\"\"\"\n",
    "Constructor de la estructura \"Dual\" que permite crear un objeto de este tipo\n",
    "sin importar que los argumentos que se reciban sean de distintos tipos.\n",
    "\"\"\"\n",
    "\n",
    "# El operador \"...\" es para \"aplanar\" la tupla que resulra de \"promote(x,y)\"\n",
    "Dual(x::T, y::U) where {T <: Real, U <: Real} = Dual(promote(x, y)...)"
   ]
  },
  {
   "cell_type": "code",
   "execution_count": 3,
   "metadata": {},
   "outputs": [
    {
     "data": {
      "text/plain": [
       "(Dual{Float64}(4.0, 5.0), Dual{Float64}(0.5, 4.5))"
      ]
     },
     "execution_count": 3,
     "metadata": {},
     "output_type": "execute_result"
    }
   ],
   "source": [
    "# El constructor permite tomar argumentos numéricos de distintos tipos\n",
    "Dual(4, 5.0), Dual(3//6, 4.5)"
   ]
  },
  {
   "cell_type": "markdown",
   "metadata": {},
   "source": [
    "- Sobrecargar las operaciones de tal manera que las cuatro operaciones aritméticas que involucren a dos `Dual`-es, den el resultado que se espera."
   ]
  },
  {
   "cell_type": "code",
   "execution_count": 4,
   "metadata": {},
   "outputs": [
    {
     "data": {
      "text/plain": [
       "/ (generic function with 116 methods)"
      ]
     },
     "execution_count": 4,
     "metadata": {},
     "output_type": "execute_result"
    }
   ],
   "source": [
    "# Sobrecarga de operadores aritméticos +, -, *, /\n",
    "\n",
    "import Base: +, -, *, /\n",
    "\n",
    "+(z::Dual, w::Dual) = Dual(z.x + w.x, z.y + w.y)\n",
    "-(z::Dual, w::Dual) = Dual(z.x - w.x, z.y - w.y)\n",
    "*(z::Dual, w::Dual) = Dual(z.x * w.x, z.x * w.y + z.y * w.x)\n",
    "/(z::Dual, w::Dual) = Dual(z.x/w.x, (w.x * z.y - z.x * w.y)/w.x^2)\n"
   ]
  },
  {
   "cell_type": "code",
   "execution_count": 5,
   "metadata": {},
   "outputs": [
    {
     "data": {
      "text/plain": [
       "(Dual{Float64}(-1.0, 4.0), Dual{Float64}(1.5, 3.0))"
      ]
     },
     "execution_count": 5,
     "metadata": {},
     "output_type": "execute_result"
    }
   ],
   "source": [
    "# Probando un ejemplo...\n",
    "z, w = Dual(cos(π), 4), Dual(3//2, 2*1.5)"
   ]
  },
  {
   "cell_type": "code",
   "execution_count": 6,
   "metadata": {},
   "outputs": [
    {
     "data": {
      "text/plain": [
       "Dual{Float64}(0.5, 7.0)"
      ]
     },
     "execution_count": 6,
     "metadata": {},
     "output_type": "execute_result"
    }
   ],
   "source": [
    "z + w"
   ]
  },
  {
   "cell_type": "code",
   "execution_count": 7,
   "metadata": {},
   "outputs": [
    {
     "data": {
      "text/plain": [
       "Dual{Float64}(-2.5, 1.0)"
      ]
     },
     "execution_count": 7,
     "metadata": {},
     "output_type": "execute_result"
    }
   ],
   "source": [
    "z - w"
   ]
  },
  {
   "cell_type": "code",
   "execution_count": 8,
   "metadata": {},
   "outputs": [
    {
     "data": {
      "text/plain": [
       "Dual{Float64}(-1.5, 3.0)"
      ]
     },
     "execution_count": 8,
     "metadata": {},
     "output_type": "execute_result"
    }
   ],
   "source": [
    "z * w"
   ]
  },
  {
   "cell_type": "code",
   "execution_count": 9,
   "metadata": {},
   "outputs": [
    {
     "data": {
      "text/plain": [
       "Dual{Float64}(-0.6666666666666666, 4.0)"
      ]
     },
     "execution_count": 9,
     "metadata": {},
     "output_type": "execute_result"
    }
   ],
   "source": [
    "z / w"
   ]
  },
  {
   "cell_type": "markdown",
   "metadata": {},
   "source": [
    "- Definan un método específico para crear duales (constructor externo), a partir de un sólo valor (en lugar de los dos requeridos), que corresponderá a $\\overleftrightarrow{x_0} = (x_0, 0)$. ¿Es el *0* de esta definición, o sea, $x_0'=0$, compatible con la interpretación que dieron en el ejercicio anterior para la parte derivada?"
   ]
  },
  {
   "cell_type": "code",
   "execution_count": 10,
   "metadata": {},
   "outputs": [
    {
     "ename": "MethodError",
     "evalue": "MethodError: no method matching Irrational{:π}(::Int64)\nClosest candidates are:\n  Irrational{:π}(::T) where T<:Number at boot.jl:718\n  Irrational{:π}() where sym at irrationals.jl:18\n  Irrational{:π}(!Matched::Complex) where T<:Real at complex.jl:37\n  ...",
     "output_type": "error",
     "traceback": [
      "MethodError: no method matching Irrational{:π}(::Int64)\nClosest candidates are:\n  Irrational{:π}(::T) where T<:Number at boot.jl:718\n  Irrational{:π}() where sym at irrationals.jl:18\n  Irrational{:π}(!Matched::Complex) where T<:Real at complex.jl:37\n  ...",
      "",
      "Stacktrace:",
      " [1] convert(::Type{Irrational{:π}}, ::Int64) at .\\number.jl:7",
      " [2] oftype(::Irrational{:π}, ::Int64) at .\\essentials.jl:366",
      " [3] zero(::Irrational{:π}) at .\\number.jl:265",
      " [4] top-level scope at In[10]:1"
     ]
    }
   ],
   "source": [
    "# Sobrecargo zero() porque, por ejemplo, zero(π) arroja un error\n",
    "zero(π)"
   ]
  },
  {
   "cell_type": "code",
   "execution_count": 11,
   "metadata": {},
   "outputs": [
    {
     "data": {
      "text/plain": [
       "zero (generic function with 16 methods)"
      ]
     },
     "execution_count": 11,
     "metadata": {},
     "output_type": "execute_result"
    }
   ],
   "source": [
    "# Sobrecargo de zero()\n",
    "import Base: zero\n",
    "\n",
    "zero(x::Irrational) = 0.0"
   ]
  },
  {
   "cell_type": "code",
   "execution_count": 12,
   "metadata": {},
   "outputs": [
    {
     "data": {
      "text/plain": [
       "0.0"
      ]
     },
     "execution_count": 12,
     "metadata": {},
     "output_type": "execute_result"
    }
   ],
   "source": [
    "# Ya no se presenta el error\n",
    "zero(π)"
   ]
  },
  {
   "cell_type": "code",
   "execution_count": 13,
   "metadata": {},
   "outputs": [
    {
     "data": {
      "text/plain": [
       "Dual"
      ]
     },
     "execution_count": 13,
     "metadata": {},
     "output_type": "execute_result"
    }
   ],
   "source": [
    "# Método que crea objetos del tipo Dual(x0, 0)\n",
    "Dual(x::T) where {T <: Real} = Dual(x, zero(x)) "
   ]
  },
  {
   "cell_type": "code",
   "execution_count": 14,
   "metadata": {},
   "outputs": [
    {
     "data": {
      "text/plain": [
       "(Dual{Float64}(3.141592653589793, 0.0), Dual{Rational{Int64}}(7//9, 0//1), Dual{Int64}(13, 0))"
      ]
     },
     "execution_count": 14,
     "metadata": {},
     "output_type": "execute_result"
    }
   ],
   "source": [
    "# Ya se permite expresar números reales como duales con parte derivada nula\n",
    "Dual(π), Dual(7//9), Dual(13)"
   ]
  },
  {
   "cell_type": "markdown",
   "metadata": {},
   "source": [
    "- Extiendan los métodos que permitan sumar/restar y multiplicar/dividir un número (`Real`) y un `Dual`. (Recuerden que ciertas operaciones son conmutativas!).\n",
    "    NOTA: Este ejercicio lo pueden hacer escribiendo todos los métodos, uno a uno. Otra opció es usar `promote` y `convert` para definir reglas de promoción y conversión; [la documentación](https://docs.julialang.org/en/v1/manual/conversion-and-promotion/) tiene más información, por si este camino les interesa."
   ]
  },
  {
   "cell_type": "code",
   "execution_count": 15,
   "metadata": {},
   "outputs": [
    {
     "data": {
      "text/plain": [
       "/ (generic function with 118 methods)"
      ]
     },
     "execution_count": 15,
     "metadata": {},
     "output_type": "execute_result"
    }
   ],
   "source": [
    "# Extensión de operadores aritméticos entre reales y duales\n",
    "\n",
    "+(z::Dual, w::T) where {T <: Real} = Dual(z.x + w, z.y)\n",
    "+(z::T, w::Dual) where {T <: Real} = Dual(z + w.x, w.y)\n",
    "\n",
    "-(z::Dual, w::T) where {T <: Real} = Dual(z.x - w, z.y)\n",
    "-(z::T, w::Dual) where {T <: Real} = Dual(z - w.x, w.y)\n",
    "\n",
    "*(z::Dual, w::T) where {T <: Real} = Dual(z.x * w, z.y * w)\n",
    "*(z::T, w::Dual) where {T <: Real} = Dual(z * w.x, z * w.y)\n",
    "\n",
    "/(z::Dual, w::T) where {T <: Real} = Dual(z.x / w, z.y / w)\n",
    "/(z::T, w::Dual) where {T <: Real} = Dual(z / w.x, -z * w.y / w.x^2)\n"
   ]
  },
  {
   "cell_type": "markdown",
   "metadata": {},
   "source": [
    "- Incluyan varios casos (propuestos por ustedes mismos) donde se *compruebe* que lo que implementaron da el resultado que debería ser. Para esto, pueden usar la librería estándard [`Test`](https://docs.julialang.org/en/v1/stdlib/Test/) de Julia."
   ]
  },
  {
   "cell_type": "code",
   "execution_count": 16,
   "metadata": {},
   "outputs": [
    {
     "data": {
      "text/plain": [
       "(Dual{Float64}(0.0, 42.0), Dual{Int64}(0, 81))"
      ]
     },
     "execution_count": 16,
     "metadata": {},
     "output_type": "execute_result"
    }
   ],
   "source": [
    "# Defs. anteriores de z y w\n",
    "# z = Dual(cos(π), 4) = Dual(-1, 4)\n",
    "# w = Dual(3//2, 2*1.5) = (1.5, 3)\n",
    "\n",
    "# a, b son reales\n",
    "a = 10\n",
    "b = 1//2\n",
    "\n",
    "# u, v son \"derivados puros\" (que en analogía a los imaginarios puros tienen parte principal cero)\n",
    "u, v = Dual(0, 42*exp(0)), Dual(0, 3^4)"
   ]
  },
  {
   "cell_type": "code",
   "execution_count": 17,
   "metadata": {},
   "outputs": [
    {
     "data": {
      "text/plain": [
       "(Dual{Float64}(10.0, 42.0), Dual{Float64}(-10.0, 42.0))"
      ]
     },
     "execution_count": 17,
     "metadata": {},
     "output_type": "execute_result"
    }
   ],
   "source": [
    "# +, -\n",
    "\n",
    "# Se espera que\n",
    "    # a + u = Dual(a, u.y) = Dual(10.0, 42.0)\n",
    "    # u - a = Dual(-10.0, 42.0)\n",
    "\n",
    "d1, d2 = a + u, u - a"
   ]
  },
  {
   "cell_type": "code",
   "execution_count": 18,
   "metadata": {},
   "outputs": [
    {
     "data": {
      "text/plain": [
       "(Dual{Float64}(100.0, 420.0), Dual{Float64}(-5.0, 21.0))"
      ]
     },
     "execution_count": 18,
     "metadata": {},
     "output_type": "execute_result"
    }
   ],
   "source": [
    "# *\n",
    "\n",
    "# Al multiplicar un dual por un escalar \"a\", esperamos que las operaciones \n",
    "# se realicen entrada por entrada, i. e. a*Dual(x,y) = Dual(a*x, a*y)\n",
    "\n",
    "# Se espera\n",
    "    # a*d1 = 10*Dual(10.0, 42.0) = Dual(100.0, 420.0)\n",
    "    # d2*b = Dual(-10.0, 42.0)*(1//2) = Dual(-5.0, 21.0)\n",
    "\n",
    "d3, d4 = a*d1, d2*b"
   ]
  },
  {
   "cell_type": "code",
   "execution_count": 19,
   "metadata": {},
   "outputs": [
    {
     "data": {
      "text/plain": [
       "(Dual{Float64}(10.0, 42.0), Dual{Float64}(-10.0, 42.0))"
      ]
     },
     "execution_count": 19,
     "metadata": {},
     "output_type": "execute_result"
    }
   ],
   "source": [
    "# / \n",
    "\n",
    "# Si de vuelta dividimos d3 y d4 entre a y b respectivamente deberíamos obtener\n",
    "    # d1 = Dual(10.0, 42.0)\n",
    "    # d2 = Dual(-10.0, 42.0)\n",
    "\n",
    "d3/a, d4/b"
   ]
  },
  {
   "cell_type": "markdown",
   "metadata": {},
   "source": [
    "## Ejercicio 3\n",
    "\n",
    "* Definan una nueva función `var_dual(x_0)` cuyo resultado sea un `Dual` cuya parte principal es `x_0` y cuya parte derivada sea tal que `var_dual(x_0)` *represente* a la variable independiente `x` en `x_0`. La idea es piensen qué debe representar la parte derivada del dual `xd` que regresa `xd = var_dual(x_0)`. "
   ]
  },
  {
   "cell_type": "markdown",
   "metadata": {},
   "source": [
    "Haciendo la analogía con la interpretación del Ejercicio 1 de un dual como $(f, f')$, consideremos $f(x) = x$. Así, para $f(x_0) = x_0$, la parte derivada de `var_dual(x_0)` debería arrojar la derivada $f'(x_0) = 1$, es decir \n",
    "\n",
    "`var_dual(x_0) = Dual(x_0, 1)`. "
   ]
  },
  {
   "cell_type": "code",
   "execution_count": 20,
   "metadata": {},
   "outputs": [
    {
     "data": {
      "text/plain": [
       "var_dual"
      ]
     },
     "execution_count": 20,
     "metadata": {},
     "output_type": "execute_result"
    }
   ],
   "source": [
    "\"\"\"\n",
    "Devuelve el dual (f(x_0),f'(x_0)) para f(x) = x,\n",
    "es decir Dual(x_0, 1).\n",
    "\"\"\"\n",
    "var_dual(x0::T) where {T <: Real} = Dual(x0, 1)"
   ]
  },
  {
   "cell_type": "markdown",
   "metadata": {},
   "source": [
    "* Con esta función evalúen `g(xd)`\n",
    "donde\n",
    "$$\n",
    "g(x) = \\frac{3x^2-8x+1}{7x^3-1}.\n",
    "$$"
   ]
  },
  {
   "cell_type": "code",
   "execution_count": 21,
   "metadata": {},
   "outputs": [
    {
     "data": {
      "text/plain": [
       "g (generic function with 1 method)"
      ]
     },
     "execution_count": 21,
     "metadata": {},
     "output_type": "execute_result"
    }
   ],
   "source": [
    "# Definición de g (se hace en términos de las operaciones aritméticas\n",
    "# para poder evaluar duales previo a sobrecargar ^).\n",
    "g(x) = (3x*x - 8x + 1)/(7x*x*x - 1)"
   ]
  },
  {
   "cell_type": "code",
   "execution_count": 22,
   "metadata": {},
   "outputs": [],
   "source": [
    "# Elegimos aleatoriamente 20 valores distintos para x0 entre 0.5 y 5\n",
    "I = 0.5:0.005:5\n",
    "X0 = rand(I, 20);"
   ]
  },
  {
   "cell_type": "code",
   "execution_count": 23,
   "metadata": {},
   "outputs": [
    {
     "data": {
      "text/plain": [
       "20-element Array{Dual{Float64},1}:\n",
       " Dual{Float64}(-0.1772482452567995, 0.4115861942742959)    \n",
       " Dual{Float64}(0.03566030781352485, 0.010895882192369038)  \n",
       " Dual{Float64}(-2.726127050385355, 19.649073988278452)     \n",
       " Dual{Float64}(0.036184997369586566, 0.010100334572825897) \n",
       " Dual{Float64}(0.03084493210241721, 0.017969234694963185)  \n",
       " Dual{Float64}(-1.6545535998934702, 8.116873854956244)     \n",
       " Dual{Float64}(0.024098606511148646, 0.027707100622423642) \n",
       " Dual{Float64}(-0.6282690586977651, 1.8428489985857024)    \n",
       " Dual{Float64}(0.013886705444636575, 0.042666855418402726) \n",
       " Dual{Float64}(-0.042921401441828724, 0.13517141355874432) \n",
       " Dual{Float64}(-0.019114424855961303, 0.09444643626531275) \n",
       " Dual{Float64}(-1.2910248826600028, 5.385074056740754)     \n",
       " Dual{Float64}(-0.05454545454545454, 0.15603305785123966)  \n",
       " Dual{Float64}(0.017667904521855078, 0.03707869755188834)  \n",
       " Dual{Float64}(0.028911689490874512, 0.02076121718100335)  \n",
       " Dual{Float64}(0.03538271818696935, 0.011313569085885562)  \n",
       " Dual{Float64}(-0.05612010133705859, 0.15890692730163264)  \n",
       " Dual{Float64}(0.041008360899471935, 0.0012956240339432536)\n",
       " Dual{Float64}(0.018756126488489424, 0.035481966244463994) \n",
       " Dual{Float64}(-0.6767718892168895, 2.042302368164929)     "
      ]
     },
     "execution_count": 23,
     "metadata": {},
     "output_type": "execute_result"
    }
   ],
   "source": [
    "# Se evalúan los valores de var_dual(x0) en g\n",
    "vec = g.(var_dual.(X0))"
   ]
  },
  {
   "cell_type": "markdown",
   "metadata": {},
   "source": [
    "Para corroborar que, efectivamente `g(var_dual(x_0)) = Dual(g(x_0), g'(x_0))`, consideremos la expresión analítica de la derivada de g:\n",
    "$$ g'(x) = \\frac{-21x^4 + 112x^3 - 21x^2 - 6x + 8}{7x^3 - 1} $$\n",
    "y evaluemos `Dual(g(x_0), g'(x_0))`\n",
    "para distintos valores de `x_0`"
   ]
  },
  {
   "cell_type": "code",
   "execution_count": 24,
   "metadata": {},
   "outputs": [
    {
     "data": {
      "text/plain": [
       "g_ (generic function with 1 method)"
      ]
     },
     "execution_count": 24,
     "metadata": {},
     "output_type": "execute_result"
    }
   ],
   "source": [
    "# Definición analítica de la derivada de g\n",
    "g_(x) = (-21x^4 + 112x^3 - 21x^2 - 6x + 8)/(7x^3 - 1)^2"
   ]
  },
  {
   "cell_type": "code",
   "execution_count": 25,
   "metadata": {},
   "outputs": [],
   "source": [
    "# Vector de duales Dual(g(x), g'(x))\n",
    "vec1 = Dual[]\n",
    "for x in X0\n",
    "    push!(vec1, Dual(g(x), g_(x)))\n",
    "end"
   ]
  },
  {
   "cell_type": "markdown",
   "metadata": {},
   "source": [
    "Debido a los errores en la manera de realizar los cálculos, es de esperarse que `vec`no sea igual a `vec1`,"
   ]
  },
  {
   "cell_type": "code",
   "execution_count": 26,
   "metadata": {},
   "outputs": [
    {
     "data": {
      "text/plain": [
       "false"
      ]
     },
     "execution_count": 26,
     "metadata": {},
     "output_type": "execute_result"
    }
   ],
   "source": [
    "vec == vec1"
   ]
  },
  {
   "cell_type": "markdown",
   "metadata": {},
   "source": [
    "por lo cual conviene calcular la diferencia `vec - vec1`."
   ]
  },
  {
   "cell_type": "code",
   "execution_count": 27,
   "metadata": {},
   "outputs": [
    {
     "data": {
      "text/plain": [
       "20-element Array{Dual{Float64},1}:\n",
       " Dual{Float64}(0.0, 0.0)                    \n",
       " Dual{Float64}(0.0, 8.673617379884035e-18)  \n",
       " Dual{Float64}(0.0, -3.552713678800501e-15) \n",
       " Dual{Float64}(0.0, -1.734723475976807e-18) \n",
       " Dual{Float64}(0.0, 6.938893903907228e-18)  \n",
       " Dual{Float64}(0.0, 0.0)                    \n",
       " Dual{Float64}(0.0, 1.0408340855860843e-17) \n",
       " Dual{Float64}(0.0, -2.220446049250313e-16) \n",
       " Dual{Float64}(0.0, 0.0)                    \n",
       " Dual{Float64}(0.0, 5.551115123125783e-17)  \n",
       " Dual{Float64}(0.0, 1.3877787807814457e-17) \n",
       " Dual{Float64}(0.0, 2.6645352591003757e-15) \n",
       " Dual{Float64}(0.0, 0.0)                    \n",
       " Dual{Float64}(0.0, -2.0816681711721685e-17)\n",
       " Dual{Float64}(0.0, -3.469446951953614e-18) \n",
       " Dual{Float64}(0.0, -1.734723475976807e-18) \n",
       " Dual{Float64}(0.0, 0.0)                    \n",
       " Dual{Float64}(0.0, -3.903127820947816e-18) \n",
       " Dual{Float64}(0.0, 6.938893903907228e-18)  \n",
       " Dual{Float64}(0.0, -4.440892098500626e-16) "
      ]
     },
     "execution_count": 27,
     "metadata": {},
     "output_type": "execute_result"
    }
   ],
   "source": [
    "# Calculando las diferencias entre los vectores de duales\n",
    "vec .- vec1"
   ]
  },
  {
   "cell_type": "markdown",
   "metadata": {},
   "source": [
    "La diferencia entre las partes principales de los duales son *cero* mientras que en las partes derivadas son *ceros numéricos* (casi cero), por lo cual se puede decir que `g(var_dual(x_0))`efectivamente arroja `Dual(g(x_0), g'(x_0))`."
   ]
  },
  {
   "cell_type": "markdown",
   "metadata": {},
   "source": [
    "## Ejercicio 4\n",
    "\n",
    "- A partir de la interpretación que han hecho para la parte derivada (último inciso del Ejercicio 1), y *generalizando* esa interpretación de qué representa cada campo y en particular el segundo de `Dual{T}`, *extiendan* las funciones `sin(a::Dual)`, `cos(a::Dual)`, `tan(a::Dual)`, `^(a::Dual, n::Int)`, `sqrt(a::Dual)`, `exp(a::Dual)` y `log(a::Dual)`."
   ]
  },
  {
   "cell_type": "markdown",
   "metadata": {},
   "source": [
    "Según la interpretación inicial, un dual $(x,y)$ se puede ver como un par $(f, f')$ de $f$ y su derivada. Considerando la composición $g \\circ f$, el dual correspondiente es $(g \\circ f, (g \\circ f)') = (g \\circ f, f'(g' \\circ f)) $. Así, la extensión de $g$ aplicado a un dual se hace como: \n",
    "$$  g((x,y)) = (g(x), y\\,g'(x)).$$\n",
    "Entonces:\n",
    "\\begin{align*}\n",
    "    \\sin{(x,y)} &:= (\\sin{x}, y\\cos{x}) \\\\\n",
    "    \\cos{(x,y)} &:= (\\cos{x}, -y\\sin{x}) \\\\\n",
    "    \\tan{(x,y)} &:= \\left(\\tan{x}, \\frac{y}{\\cos^2{x}}\\right) \\\\\n",
    "    (x,y)^n &:= (x^n, y\\,nx^{n-1}) \\\\\n",
    "    \\sqrt{(x,y)} &:= \\left(\\sqrt{x}, \\frac{y}{2 \\sqrt{x}}\\right) \\\\\n",
    "    \\exp{(x,y)} &:= (\\exp{x}, y\\exp{x}) \\\\\n",
    "    \\log{(x,y)} &:= \\left(\\log{x}, \\frac{y}{x}\\right) \\\\\n",
    "\\end{align*}"
   ]
  },
  {
   "cell_type": "code",
   "execution_count": 28,
   "metadata": {},
   "outputs": [
    {
     "data": {
      "text/plain": [
       "log (generic function with 20 methods)"
      ]
     },
     "execution_count": 28,
     "metadata": {},
     "output_type": "execute_result"
    }
   ],
   "source": [
    "# Imprtar para sobrecargar\n",
    "import Base: sin, cos, tan, ^, sqrt, exp, log\n",
    "\n",
    "sin(z::Dual) = Dual(sin(z.x), z.y*cos(z.x))\n",
    "cos(z::Dual) = Dual(cos(z.x), -z.y*sin(z.x))\n",
    "tan(z::Dual) = Dual(tan(z.x), z.y/cos(z.x)^2 )\n",
    "^(z::Dual, n::Int) = Dual((z.x)^n, z.y*n*(z.x)^(n-1))\n",
    "sqrt(z::Dual) = Dual(sqrt(z.x), (0.5*z.y)/sqrt(z.x))\n",
    "exp(z::Dual) = Dual(exp(z.x), z.y*exp(z.x))\n",
    "log(z::Dual) = Dual(log(z.x), z.y/z.x)\n"
   ]
  },
  {
   "cell_type": "markdown",
   "metadata": {},
   "source": [
    "- Al igual que antes, construyan algún conjunto de pruebas que muestren, de manera sencilla, que lo que hicieron da lo que *debería* dar."
   ]
  },
  {
   "cell_type": "markdown",
   "metadata": {},
   "source": [
    "Pruebas con funciones trigonométricas:"
   ]
  },
  {
   "cell_type": "code",
   "execution_count": 29,
   "metadata": {},
   "outputs": [
    {
     "data": {
      "text/plain": [
       "Dual{Float64}(6.283185307179586, 700.0)"
      ]
     },
     "execution_count": 29,
     "metadata": {},
     "output_type": "execute_result"
    }
   ],
   "source": [
    "α = Dual(π/2, sqrt(25))\n",
    "β = Dual(2*π, 7e2)\n",
    "\n",
    "# sin(α) = Dual(sin(π/2), 5*cos(π/2)) = Dual(1, 0)\n",
    "# sin(β) = Dual(sin(2π), 700*cos(2π)) = Dual(0, 700)\n",
    "\n",
    "# cos(α) = Dual(cos(π/2), -5*sin(π/2)) = Dual(0, -5)\n",
    "# sin(β) = Dual(cos(2π), -700*sin(2π)) = Dual(1, 0)\n",
    "\n",
    "# tan(α) = Dual(tan(π/2), 5/cos(π/2)^2) = Dual(∞, ∞)\n",
    "# tan(β) = Dual(tan(2π), 700/cos(2π)^2) = Dual(0, 700)"
   ]
  },
  {
   "cell_type": "code",
   "execution_count": 30,
   "metadata": {},
   "outputs": [],
   "source": [
    "# Vector con los resultados esperados\n",
    "V = [Dual(1,0), Dual(0,700), Dual(0,-5), Dual(1,0), Dual(0,700)]\n",
    "\n",
    "# Vector de los resultados que se pondrán a prueba\n",
    "V_pr = [sin(α), sin(β), cos(α), cos(β), tan(β)];"
   ]
  },
  {
   "cell_type": "code",
   "execution_count": 31,
   "metadata": {},
   "outputs": [
    {
     "data": {
      "text/plain": [
       "5-element Array{Dual{Float64},1}:\n",
       " Dual{Float64}(0.0, -3.061616997868383e-16) \n",
       " Dual{Float64}(2.4492935982947064e-16, 0.0) \n",
       " Dual{Float64}(-6.123233995736766e-17, 0.0) \n",
       " Dual{Float64}(0.0, -1.7145055188062946e-13)\n",
       " Dual{Float64}(2.4492935982947064e-16, 0.0) "
      ]
     },
     "execution_count": 31,
     "metadata": {},
     "output_type": "execute_result"
    }
   ],
   "source": [
    "# Se obtienen duales de ceros y ceros numéricos como se esperaría\n",
    "V - V_pr"
   ]
  },
  {
   "cell_type": "code",
   "execution_count": 32,
   "metadata": {},
   "outputs": [
    {
     "data": {
      "text/plain": [
       "Dual{Float64}(1.633123935319537e16, 1.3335468940567856e33)"
      ]
     },
     "execution_count": 32,
     "metadata": {},
     "output_type": "execute_result"
    }
   ],
   "source": [
    "# En el caso de tan(α) se espera obtener un dual con entradas Inf o con valores muy grandes\n",
    "tan(α)"
   ]
  },
  {
   "cell_type": "markdown",
   "metadata": {},
   "source": [
    "Pruebas con `sqrt` y `^`:"
   ]
  },
  {
   "cell_type": "code",
   "execution_count": 33,
   "metadata": {},
   "outputs": [
    {
     "data": {
      "text/plain": [
       "(Dual{Float64}(100.0, 2.0), Dual{Float64}(625.0, 0.5), Dual{Float64}(6.0, 2.5), 3)"
      ]
     },
     "execution_count": 33,
     "metadata": {},
     "output_type": "execute_result"
    }
   ],
   "source": [
    "r, s, t, n = Dual(100, 2*exp(0)), Dual(625.0, exp(0)/2), Dual(6, 2.5), 3\n",
    "\n",
    "# sqrt(r) = Dual(sqrt(100), 2/[2*sqrt(100)]) = Dual(10, 2/20) = Dual(10, 0.1)\n",
    "# sqrt(s) = Dual(sqrt(625), (0.5)/[2*sqrt(625)]) = Dual(25, (0.5)/50) = Dual(25, 0.01)\n",
    "\n",
    "# r^n = Dual(100^3, 2*3*100^2) = Dual(100,000, 60,000)\n",
    "# t^n = Dual(6^3, 2.5*3*6^2) = Dual(216, 270)"
   ]
  },
  {
   "cell_type": "code",
   "execution_count": 34,
   "metadata": {},
   "outputs": [],
   "source": [
    "# Resultados esperados\n",
    "U = [Dual(10, 0.1), Dual(25, 0.01), Dual(1000000, 60000), Dual(216,270)]\n",
    "\n",
    "# Vector de pruebas\n",
    "U_pr = [sqrt(r), sqrt(s), ^(r,n), ^(t,n)];"
   ]
  },
  {
   "cell_type": "code",
   "execution_count": 35,
   "metadata": {},
   "outputs": [
    {
     "data": {
      "text/plain": [
       "4-element Array{Dual{Float64},1}:\n",
       " Dual{Float64}(0.0, 0.0)\n",
       " Dual{Float64}(0.0, 0.0)\n",
       " Dual{Float64}(0.0, 0.0)\n",
       " Dual{Float64}(0.0, 0.0)"
      ]
     },
     "execution_count": 35,
     "metadata": {},
     "output_type": "execute_result"
    }
   ],
   "source": [
    "# Diferencia con duales de ceros y ceros numéricos\n",
    "U .- U_pr"
   ]
  },
  {
   "cell_type": "markdown",
   "metadata": {},
   "source": [
    "Pruebas con `exp` y `log`:"
   ]
  },
  {
   "cell_type": "code",
   "execution_count": 36,
   "metadata": {},
   "outputs": [
    {
     "data": {
      "text/plain": [
       "Dual{Rational{Int64}}(1//1, 4//5)"
      ]
     },
     "execution_count": 36,
     "metadata": {},
     "output_type": "execute_result"
    }
   ],
   "source": [
    "p = Dual(0, sqrt(2))\n",
    "q = Dual(1, 4//5)\n",
    "\n",
    "# exp(p) = Dual(exp(0), sqrt(2)*exp(0)) = Dual(1, sqrt(2))\n",
    "# log(exp(p)) = Dual(log(1), sqrt(2)/1) = Dual(0, sqrt(2)) ≡ p\n",
    "\n",
    "# log(q) = Dual(log(1), (4//5)/1) = Dual(0, 0.8)\n",
    "# exp(log(q)) = Dual(exp(0), 0.8*exp(0)) = Dual(1, 0.8) ≡ q"
   ]
  },
  {
   "cell_type": "code",
   "execution_count": 37,
   "metadata": {},
   "outputs": [],
   "source": [
    "# Resultados esperados\n",
    "L = [Dual(1, sqrt(2)), p, Dual(0, 0.8), q]\n",
    "\n",
    "# Vector de pruebas\n",
    "L_pr = [exp(p), log(exp(p)), log(q), exp(log(q))];"
   ]
  },
  {
   "cell_type": "code",
   "execution_count": 38,
   "metadata": {},
   "outputs": [
    {
     "data": {
      "text/plain": [
       "4-element Array{Dual{Float64},1}:\n",
       " Dual{Float64}(0.0, 0.0)\n",
       " Dual{Float64}(0.0, 0.0)\n",
       " Dual{Float64}(0.0, 0.0)\n",
       " Dual{Float64}(0.0, 0.0)"
      ]
     },
     "execution_count": 38,
     "metadata": {},
     "output_type": "execute_result"
    }
   ],
   "source": [
    "# Diferencia con duales de ceros y ceros numéricos\n",
    "L .- L_pr"
   ]
  }
 ],
 "metadata": {
  "kernelspec": {
   "display_name": "Julia 1.3.1",
   "language": "julia",
   "name": "julia-1.3"
  },
  "language_info": {
   "file_extension": ".jl",
   "mimetype": "application/julia",
   "name": "julia",
   "version": "1.3.1"
  }
 },
 "nbformat": 4,
 "nbformat_minor": 2
}
